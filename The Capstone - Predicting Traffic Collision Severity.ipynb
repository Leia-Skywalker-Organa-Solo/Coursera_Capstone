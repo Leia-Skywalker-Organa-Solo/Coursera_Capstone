{
 "cells": [
  {
   "cell_type": "markdown",
   "metadata": {},
   "source": [
    "# The Capstone - Predicting traffic collision severity"
   ]
  },
  {
   "cell_type": "markdown",
   "metadata": {},
   "source": [
    "**This is the final project for the data science course: It is only a testing project, no real results and outputs are generated thus the developed models should not be used for any interpretation!**"
   ]
  },
  {
   "cell_type": "markdown",
   "metadata": {},
   "source": [
    "## Introduction"
   ]
  },
  {
   "cell_type": "markdown",
   "metadata": {},
   "source": [
    "### Background"
   ]
  },
  {
   "cell_type": "markdown",
   "metadata": {},
   "source": [
    "![WHO](https://www.who.int/violence_injury_prevention/road_safety_status/2018/CAR-2.gif?ua=1)"
   ]
  },
  {
   "cell_type": "markdown",
   "metadata": {},
   "source": [
    "**Road traffic crashes** are globally among the leading causes of death and even exceed serious diseases such as HIV/AIDS [1]. The number of killed persons due to traffic crashes is estimated to be around **1.35 million** while less protected traffic participants such as pedestrians or cyclist are most affected. High-income countries count for high usage of vehicles; however, fatal rate is 3 times lower than in low-income countries but still – morbidity and mortality due to traffic crashes remain high and globally represent a high **social, health and economic burden**. In the global status report on road safety the WHO states an unacceptably high number of deaths on the world’s roads [2]. Governments all over the world have taken several (legislative) measures to minimize behavioural risk factors such as speed and drink-driving, or to improve road infrastructure and vehicles safety, thus decreasing the occurrence of road traffic collisions. At the same time, methods to prevent fatal outcome in road traffic collision are taken (e.g. helmets or seatbelts). Post-crash care is another crucial factor in minimizing mortality and morbidity in traffic crashes, but highly dependent on available resources which explains the discrepancy between low- and high-income countries in providing prehospital care. The evidence-based guideline *Save LIVES: a road safety technical package* has been provided by the WHO for decision-makers to reduce road traffic deaths [3]. The acronym **LIVES** sets the focus on the interventions speed management, **L**eadership, **I**nfrastructure design, **V**ehicle safety, **E**nforcement of traffic laws and post-crash **S**urvival.\n",
    "\n",
    "___\n",
    "\n",
    "*References*\n",
    "\n",
    "   [1] Peden M, Scurfield R, Sleet D, Mohan D, Hyder AA, Jarawan E, et al.: World report on road traffic injury prevention. Geneva 2004.  \n",
    "   [2] World Health Organization (WHO): Global status report on road safety 2018. Geneva 2018.  \n",
    "   [3] World Health Organization (WHO): Save LIVES: A road safety technical package. Geneva: World Health Organization Copyright 2017.\n",
    "\n"
   ]
  },
  {
   "cell_type": "markdown",
   "metadata": {},
   "source": [
    "### Rationale\n",
    "In the context of globally rising motorization of transport and the **SDG target** to decrease road traffic deaths to 50 % by 2020, further research should be performed to find factors with enormous potential impact. This project aims to re-evaluate and identify factors leading to a high severity in collisions with serious and/or fatal injuries, and to describe the prediction strength. A prediction model on collision severity is also needed to efficiently distribute the limited resources of emergency health care to the places where needed the most.  \n",
    "Such a model enables decision-makers to \n",
    "* focus on most efficient preventive strategies\n",
    "* to allocate limited health care resources and\n",
    "* to provide a risk assessment for individual considerations as a traffic participant\n",
    "\n",
    "By doing so a range of stakeholders such as **politicians, emergency health care managers, physicians and individual representatives of traffic participants** should be addressed in the evaluation process.\n",
    "\n",
    "As there already exists evidence and good research regarding factors contributing to the probability of a traffic collision and different measures are taken to reduce the risk (see *Save LIVES*), this project focuses on the aspect of distributing the limited resources of emergency health care to the right places thus concentrating on severity-related factors which are observed without in-depth investigation and available as information for the **health care decision-makers**.\n"
   ]
  },
  {
   "cell_type": "markdown",
   "metadata": {},
   "source": [
    "## Data understanding"
   ]
  },
  {
   "cell_type": "markdown",
   "metadata": {},
   "source": [
    "### Data source\n",
    "The data used to build this model is provided by the **Seattle Department of Transportation** which is the official governmental department focusing on transportation systems and providing safe access to places in Seattle. The dataset consists of all types of collisions from 2004 on combined with several attributes such as weather, road or light condition, involved traffic participants, infrastructural aspects and geographical data. Some of the attributes have already been linked to the occurrence of traffic collisions (e.g. speeding, weather, road or light condition) and will now be used to evaluate the collision severity. The latter is labelled by a severity code ranging from **1 (property damage only) to 3 (fatality)** in the provided dataset. Attributes of interest to predict severity in the first place without further in-depth assessment include the following points while individual factors which need further investigation such as inattention or drink-driving and the specific location were excluded.\n",
    "+ involvement of **vulnerable traffic participants**: pedestrians, bicycles\n",
    "+ **infrastructural** factors: junction type, road condition, pedestrian right of way, speeding\n",
    "+ **environmental** factors: weather condition, light condition  \n",
    "\n",
    "Being able to include the contextual data of a traffic collision into the model will ensure a comprehensive assessment of potential influencing factors. The choice of factors may enable conclusions for a more general setting without time or location specific data."
   ]
  },
  {
   "cell_type": "markdown",
   "metadata": {},
   "source": [
    "### Pre-processing"
   ]
  },
  {
   "cell_type": "code",
   "execution_count": 1,
   "metadata": {},
   "outputs": [],
   "source": [
    "import pandas as pd\n",
    "import numpy as np\n",
    "import seaborn as sb\n",
    "import missingno as msno\n",
    "import matplotlib.pyplot as plt\n",
    "\n",
    "import scipy as sc\n",
    "from scipy import stats as stats\n",
    "from scipy.stats import spearmanr\n",
    "from scipy.stats import chi2_contingency\n",
    "from sklearn.utils import resample\n",
    "\n",
    "nl = '\\n'"
   ]
  },
  {
   "cell_type": "code",
   "execution_count": 2,
   "metadata": {},
   "outputs": [
    {
     "name": "stderr",
     "output_type": "stream",
     "text": [
      "C:\\Users\\User\\anaconda3\\lib\\site-packages\\IPython\\core\\interactiveshell.py:3063: DtypeWarning: Columns (33) have mixed types.Specify dtype option on import or set low_memory=False.\n",
      "  interactivity=interactivity, compiler=compiler, result=result)\n"
     ]
    },
    {
     "data": {
      "text/plain": [
       "(194673, 38)"
      ]
     },
     "execution_count": 2,
     "metadata": {},
     "output_type": "execute_result"
    }
   ],
   "source": [
    "path = 'https://s3.us.cloud-object-storage.appdomain.cloud/cf-courses-data/CognitiveClass/DP0701EN/version-2/Data-Collisions.csv'\n",
    "df = pd.read_csv(path)\n",
    "df.shape"
   ]
  },
  {
   "cell_type": "code",
   "execution_count": 3,
   "metadata": {},
   "outputs": [
    {
     "data": {
      "text/plain": [
       "Index(['SEVERITYCODE', 'X', 'Y', 'OBJECTID', 'INCKEY', 'COLDETKEY', 'REPORTNO',\n",
       "       'STATUS', 'ADDRTYPE', 'INTKEY', 'LOCATION', 'EXCEPTRSNCODE',\n",
       "       'EXCEPTRSNDESC', 'SEVERITYCODE.1', 'SEVERITYDESC', 'COLLISIONTYPE',\n",
       "       'PERSONCOUNT', 'PEDCOUNT', 'PEDCYLCOUNT', 'VEHCOUNT', 'INCDATE',\n",
       "       'INCDTTM', 'JUNCTIONTYPE', 'SDOT_COLCODE', 'SDOT_COLDESC',\n",
       "       'INATTENTIONIND', 'UNDERINFL', 'WEATHER', 'ROADCOND', 'LIGHTCOND',\n",
       "       'PEDROWNOTGRNT', 'SDOTCOLNUM', 'SPEEDING', 'ST_COLCODE', 'ST_COLDESC',\n",
       "       'SEGLANEKEY', 'CROSSWALKKEY', 'HITPARKEDCAR'],\n",
       "      dtype='object')"
      ]
     },
     "execution_count": 3,
     "metadata": {},
     "output_type": "execute_result"
    }
   ],
   "source": [
    "df.columns"
   ]
  },
  {
   "cell_type": "markdown",
   "metadata": {},
   "source": [
    "#### Defining target variable"
   ]
  },
  {
   "cell_type": "markdown",
   "metadata": {},
   "source": [
    "The target variable – the severity of traffic collisions (SEVERITYCODE) – was assessed and due to the limitation of its dimensions to 1 (‘property damage only’) and 2 (‘injury’) defined as a binary variable (Y_SEVERITYCODE)."
   ]
  },
  {
   "cell_type": "code",
   "execution_count": 5,
   "metadata": {},
   "outputs": [
    {
     "data": {
      "text/plain": [
       "1    136485\n",
       "2     58188\n",
       "Name: SEVERITYCODE, dtype: int64"
      ]
     },
     "execution_count": 5,
     "metadata": {},
     "output_type": "execute_result"
    }
   ],
   "source": [
    "df['SEVERITYCODE'].value_counts()"
   ]
  },
  {
   "cell_type": "code",
   "execution_count": 6,
   "metadata": {},
   "outputs": [],
   "source": [
    "def set_severity(row):\n",
    "    if (row['SEVERITYCODE'] == 1):\n",
    "        return \"Property damage only\"\n",
    "    else:\n",
    "        return \"Injury\"\n",
    "df = df.assign(Y_SEVERITYCODE=df.apply(set_severity, axis=1))    "
   ]
  },
  {
   "cell_type": "code",
   "execution_count": 7,
   "metadata": {},
   "outputs": [
    {
     "data": {
      "text/plain": [
       "Property damage only    0.701099\n",
       "Injury                  0.298901\n",
       "Name: Y_SEVERITYCODE, dtype: float64"
      ]
     },
     "execution_count": 7,
     "metadata": {},
     "output_type": "execute_result"
    }
   ],
   "source": [
    "df['Y_SEVERITYCODE'].value_counts(normalize=True)"
   ]
  },
  {
   "cell_type": "markdown",
   "metadata": {},
   "source": [
    "#### Missing data analysis"
   ]
  },
  {
   "cell_type": "markdown",
   "metadata": {},
   "source": [
    "As one of the first steps the dataset was reviewed with regard to its integrity. Missing values were obtained by exploring the respective columns, marking ‘Unknown’, ‘0’ or any other possible missing value to NaN. "
   ]
  },
  {
   "cell_type": "code",
   "execution_count": 8,
   "metadata": {},
   "outputs": [],
   "source": [
    "df = df.replace('Unknown', np.nan)"
   ]
  },
  {
   "cell_type": "markdown",
   "metadata": {},
   "source": [
    "To get an idea of the missing mechanism a graphical approach via heatmaps and dendrogram was applied which revealed correlations between the missing rate of linked attributes. "
   ]
  },
  {
   "cell_type": "code",
   "execution_count": 10,
   "metadata": {},
   "outputs": [
    {
     "data": {
      "text/plain": [
       "<matplotlib.axes._subplots.AxesSubplot at 0x258888d78c8>"
      ]
     },
     "execution_count": 10,
     "metadata": {},
     "output_type": "execute_result"
    },
    {
     "data": {
      "image/png": "[encoded data removed]",
      "text/plain": [
       "<Figure size 432x288 with 1 Axes>"
      ]
     },
     "metadata": {
      "needs_background": "light"
     },
     "output_type": "display_data"
    }
   ],
   "source": [
    "sb.heatmap(df.isnull(), cbar=False)"
   ]
  },
  {
   "cell_type": "code",
   "execution_count": 14,
   "metadata": {},
   "outputs": [
    {
     "data": {
      "text/plain": [
       "<matplotlib.axes._subplots.AxesSubplot at 0x2588bc27cc8>"
      ]
     },
     "execution_count": 14,
     "metadata": {},
     "output_type": "execute_result"
    },
    {
     "data": {
      "image/png": "[encoded data removed]",
      "text/plain": [
       "<Figure size 1440x864 with 2 Axes>"
      ]
     },
     "metadata": {
      "needs_background": "light"
     },
     "output_type": "display_data"
    }
   ],
   "source": [
    "msno.heatmap(df)"
   ]
  },
  {
   "cell_type": "code",
   "execution_count": 11,
   "metadata": {},
   "outputs": [
    {
     "data": {
      "text/plain": [
       "<matplotlib.axes._subplots.AxesSubplot at 0x2588ad1d9c8>"
      ]
     },
     "execution_count": 11,
     "metadata": {},
     "output_type": "execute_result"
    },
    {
     "data": {
      "image/png": "[encoded data removed]",
      "text/plain": [
       "<Figure size 1800x720 with 1 Axes>"
      ]
     },
     "metadata": {
      "needs_background": "light"
     },
     "output_type": "display_data"
    }
   ],
   "source": [
    "msno.dendrogram(df)"
   ]
  },
  {
   "cell_type": "code",
   "execution_count": 12,
   "metadata": {},
   "outputs": [],
   "source": [
    "missing=df.isnull()"
   ]
  },
  {
   "cell_type": "code",
   "execution_count": 13,
   "metadata": {},
   "outputs": [
    {
     "name": "stdout",
     "output_type": "stream",
     "text": [
      "False    1.0\n",
      "Name: SEVERITYCODE, dtype: float64 \n",
      "\n",
      "False    0.9726\n",
      "True     0.0274\n",
      "Name: X, dtype: float64 \n",
      "\n",
      "False    0.9726\n",
      "True     0.0274\n",
      "Name: Y, dtype: float64 \n",
      "\n",
      "False    1.0\n",
      "Name: OBJECTID, dtype: float64 \n",
      "\n",
      "False    1.0\n",
      "Name: INCKEY, dtype: float64 \n",
      "\n",
      "False    1.0\n",
      "Name: COLDETKEY, dtype: float64 \n",
      "\n",
      "False    1.0\n",
      "Name: REPORTNO, dtype: float64 \n",
      "\n",
      "False    1.0\n",
      "Name: STATUS, dtype: float64 \n",
      "\n",
      "False    0.990106\n",
      "True     0.009894\n",
      "Name: ADDRTYPE, dtype: float64 \n",
      "\n",
      "True     0.665747\n",
      "False    0.334253\n",
      "Name: INTKEY, dtype: float64 \n",
      "\n",
      "False    0.986249\n",
      "True     0.013751\n",
      "Name: LOCATION, dtype: float64 \n",
      "\n",
      "True     0.564341\n",
      "False    0.435659\n",
      "Name: EXCEPTRSNCODE, dtype: float64 \n",
      "\n",
      "True     0.971039\n",
      "False    0.028961\n",
      "Name: EXCEPTRSNDESC, dtype: float64 \n",
      "\n",
      "False    1.0\n",
      "Name: SEVERITYCODE.1, dtype: float64 \n",
      "\n",
      "False    1.0\n",
      "Name: SEVERITYDESC, dtype: float64 \n",
      "\n",
      "False    0.974809\n",
      "True     0.025191\n",
      "Name: COLLISIONTYPE, dtype: float64 \n",
      "\n",
      "False    1.0\n",
      "Name: PERSONCOUNT, dtype: float64 \n",
      "\n",
      "False    1.0\n",
      "Name: PEDCOUNT, dtype: float64 \n",
      "\n",
      "False    1.0\n",
      "Name: PEDCYLCOUNT, dtype: float64 \n",
      "\n",
      "False    1.0\n",
      "Name: VEHCOUNT, dtype: float64 \n",
      "\n",
      "False    1.0\n",
      "Name: INCDATE, dtype: float64 \n",
      "\n",
      "False    1.0\n",
      "Name: INCDTTM, dtype: float64 \n",
      "\n",
      "False    0.967443\n",
      "True     0.032557\n",
      "Name: JUNCTIONTYPE, dtype: float64 \n",
      "\n",
      "False    1.0\n",
      "Name: SDOT_COLCODE, dtype: float64 \n",
      "\n",
      "False    1.0\n",
      "Name: SDOT_COLDESC, dtype: float64 \n",
      "\n",
      "True     0.846897\n",
      "False    0.153103\n",
      "Name: INATTENTIONIND, dtype: float64 \n",
      "\n",
      "False    0.974912\n",
      "True     0.025088\n",
      "Name: UNDERINFL, dtype: float64 \n",
      "\n",
      "False    0.89638\n",
      "True     0.10362\n",
      "Name: WEATHER, dtype: float64 \n",
      "\n",
      "False    0.896801\n",
      "True     0.103199\n",
      "Name: ROADCOND, dtype: float64 \n",
      "\n",
      "False    0.904234\n",
      "True     0.095766\n",
      "Name: LIGHTCOND, dtype: float64 \n",
      "\n",
      "True     0.976026\n",
      "False    0.023974\n",
      "Name: PEDROWNOTGRNT, dtype: float64 \n",
      "\n",
      "False    0.590405\n",
      "True     0.409595\n",
      "Name: SDOTCOLNUM, dtype: float64 \n",
      "\n",
      "True     0.952058\n",
      "False    0.047942\n",
      "Name: SPEEDING, dtype: float64 \n",
      "\n",
      "False    0.999908\n",
      "True     0.000092\n",
      "Name: ST_COLCODE, dtype: float64 \n",
      "\n",
      "False    0.974809\n",
      "True     0.025191\n",
      "Name: ST_COLDESC, dtype: float64 \n",
      "\n",
      "False    1.0\n",
      "Name: SEGLANEKEY, dtype: float64 \n",
      "\n",
      "False    1.0\n",
      "Name: CROSSWALKKEY, dtype: float64 \n",
      "\n",
      "False    1.0\n",
      "Name: HITPARKEDCAR, dtype: float64 \n",
      "\n",
      "False    1.0\n",
      "Name: Y_SEVERITYCODE, dtype: float64 \n",
      "\n"
     ]
    }
   ],
   "source": [
    "for column in missing:\n",
    "    print(missing[column].value_counts(normalize=True),nl)"
   ]
  },
  {
   "cell_type": "markdown",
   "metadata": {},
   "source": [
    "Attributes with missing rates of more than or equal to 5 % were looked at in more detail. The affected variables (missing rate in brackets) included\n",
    "+ INTKEY (66.58 %)\n",
    "+ EXCEPTRSNCODE (56.43 %)\n",
    "+ EXCEPTRSNDESC (97.10 %)\n",
    "+ INATTENTIONIND (84.69 %)\n",
    "+ PEDROWNOTGRNT (97.60 %)\n",
    "+ SDOTCOLNUM (40.96 %)\n",
    "+ SPEEDING (95.23 %)\n",
    "+ WEATHER (10.36 %)\n",
    "+ ROADCOND (10.32 %)\n",
    "+ LIGHTCOND (9.58 %)   \n",
    "\n",
    "To get an idea of the missing mechanism a graphical approach via heatmaps and dendrogram was applied which revealed correlations between the missing rate of linked attributes. When grouping the missing rates by the target variable no significant difference between these groups could be detected via chi2-testing. "
   ]
  },
  {
   "cell_type": "code",
   "execution_count": 15,
   "metadata": {},
   "outputs": [
    {
     "name": "stdout",
     "output_type": "stream",
     "text": [
      "Y_SEVERITYCODE_Y    Injury  Property damage only     Total\n",
      "INTKEY                                                    \n",
      "False             0.478088              0.272931  0.334253\n",
      "True              0.521912              0.727069  0.665747 \n",
      "\n",
      "Chi2 value= 0.09606125393968755\n",
      "p-value= 0.9531045959247714\n",
      "Degrees of freedom= 2\n",
      "\n",
      "Y_SEVERITYCODE_Y    Injury  Property damage only     Total\n",
      "EXCEPTRSNCODE                                             \n",
      "False             0.464838              0.423219  0.435659\n",
      "True              0.535162              0.576781  0.564341 \n",
      "\n",
      "Chi2 value= 0.0037022920649422953\n",
      "p-value= 0.9981505662816015\n",
      "Degrees of freedom= 2\n",
      "\n",
      "Y_SEVERITYCODE_Y    Injury  Property damage only     Total\n",
      "EXCEPTRSNDESC                                             \n",
      "False             0.008851              0.037535  0.028961\n",
      "True              0.991149              0.962465  0.971039 \n",
      "\n",
      "Chi2 value= 0.01770832493791289\n",
      "p-value= 0.9911849201944142\n",
      "Degrees of freedom= 2\n",
      "\n",
      "Y_SEVERITYCODE_Y    Injury  Property damage only     Total\n",
      "INATTENTIONIND                                            \n",
      "False             0.178679              0.142199  0.153103\n",
      "True              0.821321              0.857801  0.846897 \n",
      "\n",
      "Chi2 value= 0.005271675595607497\n",
      "p-value= 0.9973676329725122\n",
      "Degrees of freedom= 2\n",
      "\n",
      "Y_SEVERITYCODE_Y  Injury  Property damage only     Total\n",
      "PEDROWNOTGRNT                                           \n",
      "False             0.0723               0.00337  0.023974\n",
      "True              0.9277               0.99663  0.976026 \n",
      "\n",
      "Chi2 value= 0.07797081800980436\n",
      "p-value= 0.9617647421486267\n",
      "Degrees of freedom= 2\n",
      "\n",
      "Y_SEVERITYCODE_Y   Injury  Property damage only     Total\n",
      "SDOTCOLNUM                                               \n",
      "False             0.57584              0.596615  0.590405\n",
      "True              0.42416              0.403385  0.409595 \n",
      "\n",
      "Chi2 value= 0.0009385354810579347\n",
      "p-value= 0.9995308423483561\n",
      "Degrees of freedom= 2\n",
      "\n",
      "Y_SEVERITYCODE_Y    Injury  Property damage only     Total\n",
      "SPEEDING                                                  \n",
      "False             0.060683               0.04251  0.047942\n",
      "True              0.939317               0.95749  0.952058 \n",
      "\n",
      "Chi2 value= 0.003637569733068592\n",
      "p-value= 0.9981828681203667\n",
      "Degrees of freedom= 2\n",
      "\n",
      "Y_SEVERITYCODE_Y    Injury  Property damage only    Total\n",
      "WEATHER                                                  \n",
      "False             0.967347              0.866124  0.89638\n",
      "True              0.032653              0.133876  0.10362 \n",
      "\n",
      "Chi2 value= 0.06589243138157437\n",
      "p-value= 0.9675905993815459\n",
      "Degrees of freedom= 2\n",
      "\n",
      "Y_SEVERITYCODE_Y    Injury  Property damage only     Total\n",
      "ROADCOND                                                  \n",
      "False             0.968911              0.866059  0.896801\n",
      "True              0.031089              0.133941  0.103199 \n",
      "\n",
      "Chi2 value= 0.06847007534862945\n",
      "p-value= 0.9663443506149201\n",
      "Degrees of freedom= 2\n",
      "\n",
      "Y_SEVERITYCODE_Y   Injury  Property damage only     Total\n",
      "LIGHTCOND                                                \n",
      "False             0.97087              0.875825  0.904234\n",
      "True              0.02913              0.124175  0.095766 \n",
      "\n",
      "Chi2 value= 0.06252859257516327\n",
      "p-value= 0.9692193781383377\n",
      "Degrees of freedom= 2\n",
      "\n",
      "Y_SEVERITYCODE_Y      Injury  Property damage only     Total\n",
      "Y_SEVERITYCODE_Y                                            \n",
      "Injury                   1.0                   0.0  0.298901\n",
      "Property damage only     0.0                   1.0  0.701099 \n",
      "\n",
      "Chi2 value= 2.1464209221542276\n",
      "p-value= 0.3419090677389579\n",
      "Degrees of freedom= 2\n",
      "\n"
     ]
    }
   ],
   "source": [
    "Outcome=df['Y_SEVERITYCODE']\n",
    "Outcome=Outcome.rename('Y_SEVERITYCODE_Y')\n",
    "Var = ['INTKEY', 'EXCEPTRSNCODE', 'EXCEPTRSNDESC', 'INATTENTIONIND', 'PEDROWNOTGRNT', 'SDOTCOLNUM', \n",
    "       'SPEEDING', 'WEATHER', 'ROADCOND', 'LIGHTCOND']\n",
    "missing_5_percent=missing[Var]\n",
    "missing_df=pd.concat([missing_5_percent, Outcome], axis=1)\n",
    "for column in missing_df:\n",
    "    crosstab_miss = pd.crosstab(missing_df[column],missing_df.Y_SEVERITYCODE_Y,normalize='columns',margins=True, margins_name='Total')\n",
    "    print(crosstab_miss,nl)\n",
    "    chi2, p, dof, expected = stats.chi2_contingency(crosstab_miss)\n",
    "    print(f\"Chi2 value= {chi2}{nl}p-value= {p}{nl}Degrees of freedom= {dof}{nl}\")"
   ]
  },
  {
   "cell_type": "markdown",
   "metadata": {},
   "source": [
    "Taking these considerations into account there seems not be a missing mechanism completely at random (MCAR) but rather missing at random (**MAR**). These assumptions need to be considered in case of further pre-processing and handling missing data. "
   ]
  },
  {
   "cell_type": "markdown",
   "metadata": {},
   "source": [
    "### Feature selection"
   ]
  },
  {
   "cell_type": "markdown",
   "metadata": {},
   "source": [
    "The original dataset consisted of 38 columns, during feature selection the columns were reduced to a relevant number of 9. The feature selection involved several steps: Identifier parameters such as chosen IDs or report numbers were removed, doubly-present (redundant) variables were removed, some variables of interest were aggregated and updated, and time- or location-specific data was excluded from the analysis."
   ]
  },
  {
   "cell_type": "markdown",
   "metadata": {},
   "source": [
    "#### Removing identifier parameters"
   ]
  },
  {
   "cell_type": "code",
   "execution_count": 16,
   "metadata": {},
   "outputs": [],
   "source": [
    "df_1 = df.drop(['REPORTNO', 'OBJECTID', 'INCKEY','COLDETKEY','INTKEY','SDOTCOLNUM','STATUS'], axis=1)"
   ]
  },
  {
   "cell_type": "markdown",
   "metadata": {},
   "source": [
    "#### Re-defining variables of interest "
   ]
  },
  {
   "cell_type": "code",
   "execution_count": 17,
   "metadata": {},
   "outputs": [
    {
     "data": {
      "text/plain": [
       "Mid-Block (not related to intersection)              89800\n",
       "At Intersection (intersection related)               62810\n",
       "Mid-Block (but intersection related)                 22790\n",
       "Driveway Junction                                    10671\n",
       "At Intersection (but not related to intersection)     2098\n",
       "Ramp Junction                                          166\n",
       "Name: JUNCTIONTYPE, dtype: int64"
      ]
     },
     "execution_count": 17,
     "metadata": {},
     "output_type": "execute_result"
    }
   ],
   "source": [
    "df_1['JUNCTIONTYPE'].value_counts()"
   ]
  },
  {
   "cell_type": "code",
   "execution_count": 18,
   "metadata": {},
   "outputs": [],
   "source": [
    "def set_junction(row):\n",
    "    if (row['JUNCTIONTYPE'] == 'Mid-Block (not related to intersection)')|(row['JUNCTIONTYPE'] == 'At Intersection (but not related to intersection)'):\n",
    "        return \"Y\"\n",
    "    else:\n",
    "        return \"N\"\n",
    "df_1 = df_1.assign(JUNCTION=df_1.apply(set_junction, axis=1))  "
   ]
  },
  {
   "cell_type": "code",
   "execution_count": 19,
   "metadata": {},
   "outputs": [
    {
     "data": {
      "text/plain": [
       "Clear                       111135\n",
       "Raining                      33145\n",
       "Overcast                     27714\n",
       "Snowing                        907\n",
       "Other                          832\n",
       "Fog/Smog/Smoke                 569\n",
       "Sleet/Hail/Freezing Rain       113\n",
       "Blowing Sand/Dirt               56\n",
       "Severe Crosswind                25\n",
       "Partly Cloudy                    5\n",
       "Name: WEATHER, dtype: int64"
      ]
     },
     "execution_count": 19,
     "metadata": {},
     "output_type": "execute_result"
    }
   ],
   "source": [
    "df_1['WEATHER'].value_counts()"
   ]
  },
  {
   "cell_type": "code",
   "execution_count": 20,
   "metadata": {},
   "outputs": [],
   "source": [
    "def set_weather(row):\n",
    "    if (row['WEATHER'] == 'Overcast')|(row['WEATHER'] == 'Partly Cloudy'):\n",
    "        return \"Cloudy\"\n",
    "    elif (row['WEATHER'] == 'Clear'):\n",
    "        return \"Clear\"\n",
    "    elif (row['WEATHER'] == 'Raining')|(row['WEATHER'] == 'Snowing')|(row['WEATHER'] == 'Sleet/Hail/Freezing Rain'):\n",
    "        return \"Precipitation\"\n",
    "    elif (row['WEATHER'] == 'Fog/Smog/Smoke')|(row['WEATHER'] == 'Blowing Sand/Dirt ')|(row['WEATHER'] == 'Severe Crosswind'):\n",
    "        return \"Restricted visibility\"     \n",
    "    else:\n",
    "        return \"Other\"\n",
    "df_1 = df_1.assign(WEATHERCOND_1=df_1.apply(set_weather, axis=1))  "
   ]
  },
  {
   "cell_type": "code",
   "execution_count": 21,
   "metadata": {},
   "outputs": [
    {
     "data": {
      "text/plain": [
       "Dry               124510\n",
       "Wet                47474\n",
       "Ice                 1209\n",
       "Snow/Slush          1004\n",
       "Other                132\n",
       "Standing Water       115\n",
       "Sand/Mud/Dirt         75\n",
       "Oil                   64\n",
       "Name: ROADCOND, dtype: int64"
      ]
     },
     "execution_count": 21,
     "metadata": {},
     "output_type": "execute_result"
    }
   ],
   "source": [
    "df_1['ROADCOND'].value_counts()"
   ]
  },
  {
   "cell_type": "code",
   "execution_count": 22,
   "metadata": {},
   "outputs": [],
   "source": [
    "def set_road(row):\n",
    "    if (row['ROADCOND'] == 'Dry'):\n",
    "        return \"Dry\"\n",
    "    elif (row['ROADCOND'] == 'Ice')|(row['ROADCOND'] == 'Snow/Slush')|(row['ROADCOND'] == 'Standing Water')|(row['ROADCOND'] == 'Oil'):\n",
    "        return \"Slippery\"\n",
    "    else:\n",
    "        return \"Other\"\n",
    "df_1 = df_1.assign(ROADCOND_1=df_1.apply(set_road, axis=1))  "
   ]
  },
  {
   "cell_type": "code",
   "execution_count": 23,
   "metadata": {},
   "outputs": [
    {
     "data": {
      "text/plain": [
       "Daylight                    116137\n",
       "Dark - Street Lights On      48507\n",
       "Dusk                          5902\n",
       "Dawn                          2502\n",
       "Dark - No Street Lights       1537\n",
       "Dark - Street Lights Off      1199\n",
       "Other                          235\n",
       "Dark - Unknown Lighting         11\n",
       "Name: LIGHTCOND, dtype: int64"
      ]
     },
     "execution_count": 23,
     "metadata": {},
     "output_type": "execute_result"
    }
   ],
   "source": [
    "df_1['LIGHTCOND'].value_counts()"
   ]
  },
  {
   "cell_type": "code",
   "execution_count": 24,
   "metadata": {},
   "outputs": [],
   "source": [
    "def set_light(row):\n",
    "    if (row['LIGHTCOND'] == 'Daylight'):\n",
    "        return \"Daylight\"\n",
    "    elif (row['LIGHTCOND'] == 'Dusk')|(row['LIGHTCOND'] == 'Dawn'):\n",
    "        return \"Dusk/Dawn\"\n",
    "    elif (row['LIGHTCOND'] == 'Dark - Street Lights On')|(row['LIGHTCOND'] == 'Dark - No Street Lights')|(row['LIGHTCOND'] == 'Dark - Street Lights Off')|(row['LIGHTCOND'] == 'Dark - Unknown Lighting'):\n",
    "        return \"Night\"\n",
    "    else:\n",
    "        return \"Other\"\n",
    "df_1 = df_1.assign(LIGHTCOND_1=df_1.apply(set_light, axis=1))  "
   ]
  },
  {
   "cell_type": "code",
   "execution_count": 25,
   "metadata": {},
   "outputs": [],
   "source": [
    "def set_ped(row):\n",
    "    if (row['PEDCOUNT'] > 0):\n",
    "        return \"Y\"\n",
    "    else:\n",
    "        return \"N\"\n",
    "df_1 = df_1.assign(PED=df_1.apply(set_ped, axis=1))  "
   ]
  },
  {
   "cell_type": "code",
   "execution_count": 26,
   "metadata": {},
   "outputs": [],
   "source": [
    "def set_byc(row):\n",
    "    if (row['PEDCYLCOUNT'] > 0):\n",
    "        return \"Y\"\n",
    "    else:\n",
    "        return \"N\"\n",
    "df_1 = df_1.assign(BYC=df_1.apply(set_byc, axis=1))  "
   ]
  },
  {
   "cell_type": "markdown",
   "metadata": {},
   "source": [
    "#### Removing redundancy and coding variables"
   ]
  },
  {
   "cell_type": "code",
   "execution_count": 27,
   "metadata": {},
   "outputs": [],
   "source": [
    "df_1 = df_1.drop(['SEVERITYCODE', 'SEVERITYCODE.1', 'SEVERITYDESC'], axis=1)\n",
    "df_1 = df_1.drop(['ADDRTYPE', 'ST_COLDESC','HITPARKEDCAR'], axis=1)\n",
    "df_1 = df_1.drop(['EXCEPTRSNCODE','SDOT_COLCODE','ST_COLCODE'], axis=1)"
   ]
  },
  {
   "cell_type": "code",
   "execution_count": 28,
   "metadata": {},
   "outputs": [],
   "source": [
    "df_1 = df_1.drop(['PEDCOUNT', 'PEDCYLCOUNT','JUNCTIONTYPE', 'WEATHER','ROADCOND','LIGHTCOND'], axis=1)"
   ]
  },
  {
   "cell_type": "markdown",
   "metadata": {},
   "source": [
    "#### Removing geographical and time data"
   ]
  },
  {
   "cell_type": "code",
   "execution_count": 29,
   "metadata": {},
   "outputs": [],
   "source": [
    "df_1 = df_1.drop(['X','Y','LOCATION', 'EXCEPTRSNDESC','INCDATE', 'INCDTTM','SEGLANEKEY', \n",
    "                  'CROSSWALKKEY'], axis=1)"
   ]
  },
  {
   "cell_type": "markdown",
   "metadata": {},
   "source": [
    "#### Removing variables hardly available at the moment of prediction (in need of in-depth investigation)"
   ]
  },
  {
   "cell_type": "code",
   "execution_count": 30,
   "metadata": {},
   "outputs": [],
   "source": [
    "df_1 = df_1.drop(['COLLISIONTYPE','INATTENTIONIND','UNDERINFL','SDOT_COLDESC', 'PEDROWNOTGRNT', 'SPEEDING'], axis=1)"
   ]
  },
  {
   "cell_type": "code",
   "execution_count": 31,
   "metadata": {},
   "outputs": [
    {
     "data": {
      "text/plain": [
       "(194673, 9)"
      ]
     },
     "execution_count": 31,
     "metadata": {},
     "output_type": "execute_result"
    }
   ],
   "source": [
    "df_1.shape"
   ]
  },
  {
   "cell_type": "code",
   "execution_count": 32,
   "metadata": {},
   "outputs": [
    {
     "data": {
      "text/plain": [
       "Index(['PERSONCOUNT', 'VEHCOUNT', 'Y_SEVERITYCODE', 'JUNCTION',\n",
       "       'WEATHERCOND_1', 'ROADCOND_1', 'LIGHTCOND_1', 'PED', 'BYC'],\n",
       "      dtype='object')"
      ]
     },
     "execution_count": 32,
     "metadata": {},
     "output_type": "execute_result"
    }
   ],
   "source": [
    "df_1.columns"
   ]
  },
  {
   "cell_type": "markdown",
   "metadata": {},
   "source": [
    "In the context of the project’s aim to focus on the health care provision the following attributes available at the moment of prediction (without further in-depth investigation) remained:\n",
    "+ PERSONCOUNT: amount of involved persons\n",
    "+ VEHCOUNT: amount of involved vehicles\n",
    "+ WEATHERCOND_1: weather condition\n",
    "+ ROADCOND_1: road condition\n",
    "+ LIGHTCOND_1: light condition\n",
    "+ JUNCTION: relation to a junction\n",
    "+ PED: involved pedestrians\n",
    "+ BYC: involved bicycle\n"
   ]
  },
  {
   "cell_type": "markdown",
   "metadata": {},
   "source": [
    "### Exploratory data analysis"
   ]
  },
  {
   "cell_type": "code",
   "execution_count": 35,
   "metadata": {},
   "outputs": [
    {
     "data": {
      "image/png": "[encoded data removed]",
      "text/plain": [
       "<Figure size 432x288 with 1 Axes>"
      ]
     },
     "metadata": {
      "needs_background": "light"
     },
     "output_type": "display_data"
    },
    {
     "name": "stdout",
     "output_type": "stream",
     "text": [
      "Property damage only    0.701099\n",
      "Injury                  0.298901\n",
      "Name: Y_SEVERITYCODE, dtype: float64\n"
     ]
    }
   ],
   "source": [
    "df_1.Y_SEVERITYCODE.value_counts().plot(kind='bar')\n",
    "plt.title('Distribution of label')\n",
    "plt.xlabel('')\n",
    "plt.ylabel('Absolute number')\n",
    "plt.xticks(rotation=0)\n",
    "plt.show()\n",
    "print(df_1.Y_SEVERITYCODE.value_counts(normalize=True))"
   ]
  },
  {
   "cell_type": "markdown",
   "metadata": {},
   "source": [
    "As displayed in the graph above, the chosen dataset presents as a real-world dataset and therefore reveals by being **imbalanced** a common data science problem. While the **majority** of the 194,673 reported collision are **property damage only** (70.11 %). Many models do struggle with identifying the minority classes thus a pre-processing step to overcome this challenge should be implemented. A possible approach is to simply undersample the majority class which is in the context of the large dataset an adequate option but still losing statistical power. Another method is directly integrated in the modelling algorithm by SciKit Learn’s where a **weight** can be added to the minority category. The latter method was chosen due to its good performance and preventing undersampling biases and will be implemented when building the model."
   ]
  },
  {
   "cell_type": "code",
   "execution_count": 36,
   "metadata": {},
   "outputs": [
    {
     "data": {
      "text/html": [
       "<div>\n",
       "<style scoped>\n",
       "    .dataframe tbody tr th:only-of-type {\n",
       "        vertical-align: middle;\n",
       "    }\n",
       "\n",
       "    .dataframe tbody tr th {\n",
       "        vertical-align: top;\n",
       "    }\n",
       "\n",
       "    .dataframe thead th {\n",
       "        text-align: right;\n",
       "    }\n",
       "</style>\n",
       "<table border=\"1\" class=\"dataframe\">\n",
       "  <thead>\n",
       "    <tr style=\"text-align: right;\">\n",
       "      <th></th>\n",
       "      <th>PERSONCOUNT</th>\n",
       "      <th>VEHCOUNT</th>\n",
       "    </tr>\n",
       "  </thead>\n",
       "  <tbody>\n",
       "    <tr>\n",
       "      <th>PERSONCOUNT</th>\n",
       "      <td>1.000000</td>\n",
       "      <td>0.380523</td>\n",
       "    </tr>\n",
       "    <tr>\n",
       "      <th>VEHCOUNT</th>\n",
       "      <td>0.380523</td>\n",
       "      <td>1.000000</td>\n",
       "    </tr>\n",
       "  </tbody>\n",
       "</table>\n",
       "</div>"
      ],
      "text/plain": [
       "             PERSONCOUNT  VEHCOUNT\n",
       "PERSONCOUNT     1.000000  0.380523\n",
       "VEHCOUNT        0.380523  1.000000"
      ]
     },
     "execution_count": 36,
     "metadata": {},
     "output_type": "execute_result"
    }
   ],
   "source": [
    "df_1.corr(method='pearson')"
   ]
  },
  {
   "cell_type": "code",
   "execution_count": 37,
   "metadata": {},
   "outputs": [
    {
     "data": {
      "text/html": [
       "<div>\n",
       "<style scoped>\n",
       "    .dataframe tbody tr th:only-of-type {\n",
       "        vertical-align: middle;\n",
       "    }\n",
       "\n",
       "    .dataframe tbody tr th {\n",
       "        vertical-align: top;\n",
       "    }\n",
       "\n",
       "    .dataframe thead th {\n",
       "        text-align: right;\n",
       "    }\n",
       "</style>\n",
       "<table border=\"1\" class=\"dataframe\">\n",
       "  <thead>\n",
       "    <tr style=\"text-align: right;\">\n",
       "      <th></th>\n",
       "      <th>PERSONCOUNT</th>\n",
       "      <th>VEHCOUNT</th>\n",
       "      <th>Y_SEVERITYCODE</th>\n",
       "      <th>JUNCTION</th>\n",
       "      <th>WEATHERCOND_1</th>\n",
       "      <th>ROADCOND_1</th>\n",
       "      <th>LIGHTCOND_1</th>\n",
       "      <th>PED</th>\n",
       "      <th>BYC</th>\n",
       "    </tr>\n",
       "  </thead>\n",
       "  <tbody>\n",
       "    <tr>\n",
       "      <th>count</th>\n",
       "      <td>194673.000000</td>\n",
       "      <td>194673.000000</td>\n",
       "      <td>194673</td>\n",
       "      <td>194673</td>\n",
       "      <td>194673</td>\n",
       "      <td>194673</td>\n",
       "      <td>194673</td>\n",
       "      <td>194673</td>\n",
       "      <td>194673</td>\n",
       "    </tr>\n",
       "    <tr>\n",
       "      <th>unique</th>\n",
       "      <td>NaN</td>\n",
       "      <td>NaN</td>\n",
       "      <td>2</td>\n",
       "      <td>2</td>\n",
       "      <td>5</td>\n",
       "      <td>3</td>\n",
       "      <td>4</td>\n",
       "      <td>2</td>\n",
       "      <td>2</td>\n",
       "    </tr>\n",
       "    <tr>\n",
       "      <th>top</th>\n",
       "      <td>NaN</td>\n",
       "      <td>NaN</td>\n",
       "      <td>Property damage only</td>\n",
       "      <td>N</td>\n",
       "      <td>Clear</td>\n",
       "      <td>Dry</td>\n",
       "      <td>Daylight</td>\n",
       "      <td>N</td>\n",
       "      <td>N</td>\n",
       "    </tr>\n",
       "    <tr>\n",
       "      <th>freq</th>\n",
       "      <td>NaN</td>\n",
       "      <td>NaN</td>\n",
       "      <td>136485</td>\n",
       "      <td>102775</td>\n",
       "      <td>111135</td>\n",
       "      <td>124510</td>\n",
       "      <td>116137</td>\n",
       "      <td>187734</td>\n",
       "      <td>189189</td>\n",
       "    </tr>\n",
       "    <tr>\n",
       "      <th>mean</th>\n",
       "      <td>2.444427</td>\n",
       "      <td>1.920780</td>\n",
       "      <td>NaN</td>\n",
       "      <td>NaN</td>\n",
       "      <td>NaN</td>\n",
       "      <td>NaN</td>\n",
       "      <td>NaN</td>\n",
       "      <td>NaN</td>\n",
       "      <td>NaN</td>\n",
       "    </tr>\n",
       "    <tr>\n",
       "      <th>std</th>\n",
       "      <td>1.345929</td>\n",
       "      <td>0.631047</td>\n",
       "      <td>NaN</td>\n",
       "      <td>NaN</td>\n",
       "      <td>NaN</td>\n",
       "      <td>NaN</td>\n",
       "      <td>NaN</td>\n",
       "      <td>NaN</td>\n",
       "      <td>NaN</td>\n",
       "    </tr>\n",
       "    <tr>\n",
       "      <th>min</th>\n",
       "      <td>0.000000</td>\n",
       "      <td>0.000000</td>\n",
       "      <td>NaN</td>\n",
       "      <td>NaN</td>\n",
       "      <td>NaN</td>\n",
       "      <td>NaN</td>\n",
       "      <td>NaN</td>\n",
       "      <td>NaN</td>\n",
       "      <td>NaN</td>\n",
       "    </tr>\n",
       "    <tr>\n",
       "      <th>25%</th>\n",
       "      <td>2.000000</td>\n",
       "      <td>2.000000</td>\n",
       "      <td>NaN</td>\n",
       "      <td>NaN</td>\n",
       "      <td>NaN</td>\n",
       "      <td>NaN</td>\n",
       "      <td>NaN</td>\n",
       "      <td>NaN</td>\n",
       "      <td>NaN</td>\n",
       "    </tr>\n",
       "    <tr>\n",
       "      <th>50%</th>\n",
       "      <td>2.000000</td>\n",
       "      <td>2.000000</td>\n",
       "      <td>NaN</td>\n",
       "      <td>NaN</td>\n",
       "      <td>NaN</td>\n",
       "      <td>NaN</td>\n",
       "      <td>NaN</td>\n",
       "      <td>NaN</td>\n",
       "      <td>NaN</td>\n",
       "    </tr>\n",
       "    <tr>\n",
       "      <th>75%</th>\n",
       "      <td>3.000000</td>\n",
       "      <td>2.000000</td>\n",
       "      <td>NaN</td>\n",
       "      <td>NaN</td>\n",
       "      <td>NaN</td>\n",
       "      <td>NaN</td>\n",
       "      <td>NaN</td>\n",
       "      <td>NaN</td>\n",
       "      <td>NaN</td>\n",
       "    </tr>\n",
       "    <tr>\n",
       "      <th>max</th>\n",
       "      <td>81.000000</td>\n",
       "      <td>12.000000</td>\n",
       "      <td>NaN</td>\n",
       "      <td>NaN</td>\n",
       "      <td>NaN</td>\n",
       "      <td>NaN</td>\n",
       "      <td>NaN</td>\n",
       "      <td>NaN</td>\n",
       "      <td>NaN</td>\n",
       "    </tr>\n",
       "  </tbody>\n",
       "</table>\n",
       "</div>"
      ],
      "text/plain": [
       "          PERSONCOUNT       VEHCOUNT        Y_SEVERITYCODE JUNCTION  \\\n",
       "count   194673.000000  194673.000000                194673   194673   \n",
       "unique            NaN            NaN                     2        2   \n",
       "top               NaN            NaN  Property damage only        N   \n",
       "freq              NaN            NaN                136485   102775   \n",
       "mean         2.444427       1.920780                   NaN      NaN   \n",
       "std          1.345929       0.631047                   NaN      NaN   \n",
       "min          0.000000       0.000000                   NaN      NaN   \n",
       "25%          2.000000       2.000000                   NaN      NaN   \n",
       "50%          2.000000       2.000000                   NaN      NaN   \n",
       "75%          3.000000       2.000000                   NaN      NaN   \n",
       "max         81.000000      12.000000                   NaN      NaN   \n",
       "\n",
       "       WEATHERCOND_1 ROADCOND_1 LIGHTCOND_1     PED     BYC  \n",
       "count         194673     194673      194673  194673  194673  \n",
       "unique             5          3           4       2       2  \n",
       "top            Clear        Dry    Daylight       N       N  \n",
       "freq          111135     124510      116137  187734  189189  \n",
       "mean             NaN        NaN         NaN     NaN     NaN  \n",
       "std              NaN        NaN         NaN     NaN     NaN  \n",
       "min              NaN        NaN         NaN     NaN     NaN  \n",
       "25%              NaN        NaN         NaN     NaN     NaN  \n",
       "50%              NaN        NaN         NaN     NaN     NaN  \n",
       "75%              NaN        NaN         NaN     NaN     NaN  \n",
       "max              NaN        NaN         NaN     NaN     NaN  "
      ]
     },
     "execution_count": 37,
     "metadata": {},
     "output_type": "execute_result"
    }
   ],
   "source": [
    "df_1.describe(include='all')"
   ]
  },
  {
   "cell_type": "markdown",
   "metadata": {},
   "source": [
    "When having a closer look to the numerical values a mean involvement of **2.44 persons** and **1.92 vehicles** could be obtained. Most of the collisions lead to property damage only, did not involve pedestrians nor bicycles, and did not take place in relation to a junction. The most often circumstances involved **clear weather conditions**, a **dry road** and **daylight**."
   ]
  },
  {
   "cell_type": "code",
   "execution_count": 38,
   "metadata": {},
   "outputs": [
    {
     "data": {
      "text/html": [
       "<div>\n",
       "<style scoped>\n",
       "    .dataframe tbody tr th:only-of-type {\n",
       "        vertical-align: middle;\n",
       "    }\n",
       "\n",
       "    .dataframe tbody tr th {\n",
       "        vertical-align: top;\n",
       "    }\n",
       "\n",
       "    .dataframe thead tr th {\n",
       "        text-align: left;\n",
       "    }\n",
       "\n",
       "    .dataframe thead tr:last-of-type th {\n",
       "        text-align: right;\n",
       "    }\n",
       "</style>\n",
       "<table border=\"1\" class=\"dataframe\">\n",
       "  <thead>\n",
       "    <tr>\n",
       "      <th></th>\n",
       "      <th colspan=\"8\" halign=\"left\">PERSONCOUNT</th>\n",
       "      <th colspan=\"8\" halign=\"left\">VEHCOUNT</th>\n",
       "    </tr>\n",
       "    <tr>\n",
       "      <th></th>\n",
       "      <th>count</th>\n",
       "      <th>mean</th>\n",
       "      <th>std</th>\n",
       "      <th>min</th>\n",
       "      <th>25%</th>\n",
       "      <th>50%</th>\n",
       "      <th>75%</th>\n",
       "      <th>max</th>\n",
       "      <th>count</th>\n",
       "      <th>mean</th>\n",
       "      <th>std</th>\n",
       "      <th>min</th>\n",
       "      <th>25%</th>\n",
       "      <th>50%</th>\n",
       "      <th>75%</th>\n",
       "      <th>max</th>\n",
       "    </tr>\n",
       "    <tr>\n",
       "      <th>Y_SEVERITYCODE</th>\n",
       "      <th></th>\n",
       "      <th></th>\n",
       "      <th></th>\n",
       "      <th></th>\n",
       "      <th></th>\n",
       "      <th></th>\n",
       "      <th></th>\n",
       "      <th></th>\n",
       "      <th></th>\n",
       "      <th></th>\n",
       "      <th></th>\n",
       "      <th></th>\n",
       "      <th></th>\n",
       "      <th></th>\n",
       "      <th></th>\n",
       "      <th></th>\n",
       "    </tr>\n",
       "  </thead>\n",
       "  <tbody>\n",
       "    <tr>\n",
       "      <th>Injury</th>\n",
       "      <td>58188.0</td>\n",
       "      <td>2.714357</td>\n",
       "      <td>1.544786</td>\n",
       "      <td>0.0</td>\n",
       "      <td>2.0</td>\n",
       "      <td>2.0</td>\n",
       "      <td>3.0</td>\n",
       "      <td>81.0</td>\n",
       "      <td>58188.0</td>\n",
       "      <td>1.867928</td>\n",
       "      <td>0.747174</td>\n",
       "      <td>0.0</td>\n",
       "      <td>1.0</td>\n",
       "      <td>2.0</td>\n",
       "      <td>2.0</td>\n",
       "      <td>11.0</td>\n",
       "    </tr>\n",
       "    <tr>\n",
       "      <th>Property damage only</th>\n",
       "      <td>136485.0</td>\n",
       "      <td>2.329348</td>\n",
       "      <td>1.233759</td>\n",
       "      <td>0.0</td>\n",
       "      <td>2.0</td>\n",
       "      <td>2.0</td>\n",
       "      <td>3.0</td>\n",
       "      <td>57.0</td>\n",
       "      <td>136485.0</td>\n",
       "      <td>1.943312</td>\n",
       "      <td>0.572966</td>\n",
       "      <td>0.0</td>\n",
       "      <td>2.0</td>\n",
       "      <td>2.0</td>\n",
       "      <td>2.0</td>\n",
       "      <td>12.0</td>\n",
       "    </tr>\n",
       "  </tbody>\n",
       "</table>\n",
       "</div>"
      ],
      "text/plain": [
       "                     PERSONCOUNT                                          \\\n",
       "                           count      mean       std  min  25%  50%  75%   \n",
       "Y_SEVERITYCODE                                                             \n",
       "Injury                   58188.0  2.714357  1.544786  0.0  2.0  2.0  3.0   \n",
       "Property damage only    136485.0  2.329348  1.233759  0.0  2.0  2.0  3.0   \n",
       "\n",
       "                            VEHCOUNT                                          \\\n",
       "                       max     count      mean       std  min  25%  50%  75%   \n",
       "Y_SEVERITYCODE                                                                 \n",
       "Injury                81.0   58188.0  1.867928  0.747174  0.0  1.0  2.0  2.0   \n",
       "Property damage only  57.0  136485.0  1.943312  0.572966  0.0  2.0  2.0  2.0   \n",
       "\n",
       "                            \n",
       "                       max  \n",
       "Y_SEVERITYCODE              \n",
       "Injury                11.0  \n",
       "Property damage only  12.0  "
      ]
     },
     "execution_count": 38,
     "metadata": {},
     "output_type": "execute_result"
    }
   ],
   "source": [
    "df_1.groupby('Y_SEVERITYCODE').describe()"
   ]
  },
  {
   "cell_type": "code",
   "execution_count": 130,
   "metadata": {},
   "outputs": [
    {
     "data": {
      "text/plain": [
       "MannwhitneyuResult(statistic=3293827850.0, pvalue=0.0)"
      ]
     },
     "execution_count": 130,
     "metadata": {},
     "output_type": "execute_result"
    }
   ],
   "source": [
    "Persons_1 = df_1.query(\"Y_SEVERITYCODE == 'Injury'\")\n",
    "Persons_1 = Persons_1['PERSONCOUNT']\n",
    "\n",
    "Persons_2 = df_1.query(\"Y_SEVERITYCODE == 'Property damage only'\")\n",
    "Persons_2 = Persons_2['PERSONCOUNT']\n",
    "\n",
    "stats.mannwhitneyu(Persons_1, Persons_2)"
   ]
  },
  {
   "cell_type": "code",
   "execution_count": 131,
   "metadata": {},
   "outputs": [
    {
     "data": {
      "text/plain": [
       "MannwhitneyuResult(statistic=3615230799.5, pvalue=0.0)"
      ]
     },
     "execution_count": 131,
     "metadata": {},
     "output_type": "execute_result"
    }
   ],
   "source": [
    "Vehicles_1 = df_1.query(\"Y_SEVERITYCODE == 'Injury'\")\n",
    "Vehicles_1 = Vehicles_1['VEHCOUNT']\n",
    "\n",
    "Vehicles_2 = df_1.query(\"Y_SEVERITYCODE == 'Property damage only'\")\n",
    "Vehicles_2 = Vehicles_2['VEHCOUNT']\n",
    "\n",
    "stats.mannwhitneyu(Vehicles_1, Vehicles_2)"
   ]
  },
  {
   "cell_type": "markdown",
   "metadata": {},
   "source": [
    "When grouping the amount of involved persons and vehicles by the collision severity, a group difference could be detected via **Mann-Whitney-U-Test**."
   ]
  },
  {
   "cell_type": "code",
   "execution_count": 39,
   "metadata": {},
   "outputs": [],
   "source": [
    "cat=['JUNCTION','WEATHERCOND_1', 'ROADCOND_1', 'LIGHTCOND_1', 'PED', 'BYC', 'Y_SEVERITYCODE']\n",
    "df_1_=df_1[cat]"
   ]
  },
  {
   "cell_type": "code",
   "execution_count": 40,
   "metadata": {},
   "outputs": [
    {
     "name": "stdout",
     "output_type": "stream",
     "text": [
      "Y_SEVERITYCODE  Injury  Property damage only   Total\n",
      "JUNCTION                                            \n",
      "N                38161                 64614  102775\n",
      "Y                20027                 71871   91898\n",
      "Total            58188                136485  194673 \n",
      "\n",
      "Y_SEVERITYCODE    Injury  Property damage only     Total\n",
      "JUNCTION                                                \n",
      "N               0.655823              0.473415  0.527937\n",
      "Y               0.344177              0.526585  0.472063 \n",
      "\n",
      "Chi2 value= 5446.500622355916\n",
      "p-value= 0.0\n",
      "Degrees of freedom= 4\n",
      "\n",
      "Y_SEVERITYCODE         Injury  Property damage only   Total\n",
      "WEATHERCOND_1                                              \n",
      "Clear                   35840                 75295  111135\n",
      "Cloudy                   8748                 18971   27719\n",
      "Other                    2031                 19029   21060\n",
      "Precipitation           11375                 22790   34165\n",
      "Restricted visibility     194                   400     594\n",
      "Total                   58188                136485  194673 \n",
      "\n",
      "Y_SEVERITYCODE           Injury  Property damage only     Total\n",
      "WEATHERCOND_1                                                  \n",
      "Clear                  0.615935              0.551672  0.570880\n",
      "Cloudy                 0.150340              0.138997  0.142387\n",
      "Other                  0.034904              0.139422  0.108181\n",
      "Precipitation          0.195487              0.166978  0.175499\n",
      "Restricted visibility  0.003334              0.002931  0.003051 \n",
      "\n",
      "Chi2 value= 4642.539398438508\n",
      "p-value= 0.0\n",
      "Degrees of freedom= 10\n",
      "\n",
      "Y_SEVERITYCODE  Injury  Property damage only   Total\n",
      "ROADCOND_1                                          \n",
      "Dry              40064                 84446  124510\n",
      "Other            17630                 50141   67771\n",
      "Slippery           494                  1898    2392\n",
      "Total            58188                136485  194673 \n",
      "\n",
      "Y_SEVERITYCODE    Injury  Property damage only     Total\n",
      "ROADCOND_1                                              \n",
      "Dry             0.688527              0.618720  0.639585\n",
      "Other           0.302983              0.367374  0.348127\n",
      "Slippery        0.008490              0.013906  0.012287 \n",
      "\n",
      "Chi2 value= 894.095486161842\n",
      "p-value= 7.099909098968457e-190\n",
      "Degrees of freedom= 6\n",
      "\n",
      "Y_SEVERITYCODE  Injury  Property damage only   Total\n",
      "LIGHTCOND_1                                         \n",
      "Daylight         38544                 77593  116137\n",
      "Dusk/Dawn         2768                  5636    8404\n",
      "Night            15129                 36125   51254\n",
      "Other             1747                 17131   18878\n",
      "Total            58188                136485  194673 \n",
      "\n",
      "Y_SEVERITYCODE    Injury  Property damage only     Total\n",
      "LIGHTCOND_1                                             \n",
      "Daylight        0.662405              0.568509  0.596575\n",
      "Dusk/Dawn       0.047570              0.041294  0.043170\n",
      "Night           0.260002              0.264681  0.263283\n",
      "Other           0.030023              0.125516  0.096973 \n",
      "\n",
      "Chi2 value= 4479.677495250809\n",
      "p-value= 0.0\n",
      "Degrees of freedom= 8\n",
      "\n",
      "Y_SEVERITYCODE  Injury  Property damage only   Total\n",
      "PED                                                 \n",
      "N                51947                135787  187734\n",
      "Y                 6241                   698    6939\n",
      "Total            58188                136485  194673 \n",
      "\n",
      "Y_SEVERITYCODE    Injury  Property damage only     Total\n",
      "PED                                                     \n",
      "N               0.892744              0.994886  0.964356\n",
      "Y               0.107256              0.005114  0.035644 \n",
      "\n",
      "Chi2 value= 12381.983420687517\n",
      "p-value= 0.0\n",
      "Degrees of freedom= 4\n",
      "\n",
      "Y_SEVERITYCODE  Injury  Property damage only   Total\n",
      "BYC                                                 \n",
      "N                53383                135806  189189\n",
      "Y                 4805                   679    5484\n",
      "Total            58188                136485  194673 \n",
      "\n",
      "Y_SEVERITYCODE    Injury  Property damage only    Total\n",
      "BYC                                                    \n",
      "N               0.917423              0.995025  0.97183\n",
      "Y               0.082577              0.004975  0.02817 \n",
      "\n",
      "Chi2 value= 8973.8636078695\n",
      "p-value= 0.0\n",
      "Degrees of freedom= 4\n",
      "\n"
     ]
    }
   ],
   "source": [
    "for column in df_1_.iloc[:,:-1]:\n",
    "    crosstab_ = pd.crosstab(df_1_[column], df_1_.Y_SEVERITYCODE, margins = True, margins_name='Total')\n",
    "    print(crosstab_, nl)\n",
    "    crosstab__ = pd.crosstab(df_1_[column], df_1_.Y_SEVERITYCODE, normalize='columns', margins=True, margins_name='Total')\n",
    "    print(crosstab__, nl)\n",
    "    chi2,p,dof,expected = stats.chi2_contingency(crosstab_)\n",
    "    print(f\"Chi2 value= {chi2}{nl}p-value= {p}{nl}Degrees of freedom= {dof}{nl}\")"
   ]
  },
  {
   "cell_type": "markdown",
   "metadata": {},
   "source": [
    "When grouping the categorical variables by the collision severity a **group difference** could be detected via chi2-testing in **all** of the attributes."
   ]
  },
  {
   "cell_type": "code",
   "execution_count": 41,
   "metadata": {},
   "outputs": [
    {
     "data": {
      "image/png": "[encoded data removed]",
      "text/plain": [
       "<Figure size 432x288 with 1 Axes>"
      ]
     },
     "metadata": {
      "needs_background": "light"
     },
     "output_type": "display_data"
    }
   ],
   "source": [
    "table2=pd.crosstab(df_1.JUNCTION,df_1.Y_SEVERITYCODE)\n",
    "table2.div(table2.sum(1).astype(float), axis=0).plot(kind='barh', stacked=True)\n",
    "plt.title('Involvement of junctions')\n",
    "plt.xlabel('Proportion')\n",
    "plt.ylabel('')\n",
    "plt.xticks(rotation=0)\n",
    "plt.legend(title='', loc='upper right')\n",
    "\n",
    "plt.show()"
   ]
  },
  {
   "cell_type": "code",
   "execution_count": 42,
   "metadata": {},
   "outputs": [
    {
     "data": {
      "image/png": "[encoded data removed]",
      "text/plain": [
       "<Figure size 432x288 with 1 Axes>"
      ]
     },
     "metadata": {
      "needs_background": "light"
     },
     "output_type": "display_data"
    }
   ],
   "source": [
    "table2=pd.crosstab(df_1.WEATHERCOND_1,df_1.Y_SEVERITYCODE)\n",
    "Weather_Order = ['Clear','Cloudy', 'Precipitation', 'Restricted visibility', 'Other']\n",
    "table2 = table2.loc[Weather_Order]\n",
    "table2.div(table2.sum(1).astype(float), axis=0).plot(kind='bar', stacked=True)\n",
    "plt.title('Weather condition')\n",
    "plt.xlabel('')\n",
    "plt.ylabel('Proportion')\n",
    "plt.xticks(rotation=10)\n",
    "plt.legend(title='', loc='upper right')\n",
    "\n",
    "plt.show()"
   ]
  },
  {
   "cell_type": "code",
   "execution_count": 43,
   "metadata": {},
   "outputs": [
    {
     "data": {
      "image/png": "[encoded data removed]",
      "text/plain": [
       "<Figure size 432x288 with 1 Axes>"
      ]
     },
     "metadata": {
      "needs_background": "light"
     },
     "output_type": "display_data"
    }
   ],
   "source": [
    "table2=pd.crosstab(df_1.ROADCOND_1,df_1.Y_SEVERITYCODE)\n",
    "ROAD_Order = ['Dry','Slippery', 'Other']\n",
    "table2 = table2.loc[ROAD_Order]\n",
    "table2.div(table2.sum(1).astype(float), axis=0).plot(kind='bar', stacked=True)\n",
    "plt.title('Road condition')\n",
    "plt.xlabel('')\n",
    "plt.ylabel('Proportion')\n",
    "plt.xticks(rotation=0)\n",
    "plt.legend(title='', loc='upper right')\n",
    "\n",
    "plt.show()"
   ]
  },
  {
   "cell_type": "code",
   "execution_count": 44,
   "metadata": {},
   "outputs": [
    {
     "data": {
      "image/png": "[encoded data removed]",
      "text/plain": [
       "<Figure size 432x288 with 1 Axes>"
      ]
     },
     "metadata": {
      "needs_background": "light"
     },
     "output_type": "display_data"
    }
   ],
   "source": [
    "table2=pd.crosstab(df_1.LIGHTCOND_1,df_1.Y_SEVERITYCODE)\n",
    "LIGHT_Order = ['Daylight','Dusk/Dawn', 'Night', 'Other']\n",
    "table2 = table2.loc[LIGHT_Order]\n",
    "table2.div(table2.sum(1).astype(float), axis=0).plot(kind='bar', stacked=True)\n",
    "plt.title('Light condition')\n",
    "plt.xlabel('')\n",
    "plt.ylabel('Proportion')\n",
    "plt.xticks(rotation=0)\n",
    "plt.legend(title='', loc='upper right')\n",
    "\n",
    "plt.show()"
   ]
  },
  {
   "cell_type": "code",
   "execution_count": 45,
   "metadata": {},
   "outputs": [
    {
     "data": {
      "image/png": "[encoded data removed]",
      "text/plain": [
       "<Figure size 432x288 with 1 Axes>"
      ]
     },
     "metadata": {
      "needs_background": "light"
     },
     "output_type": "display_data"
    }
   ],
   "source": [
    "table2=pd.crosstab(df_1.PED,df_1.Y_SEVERITYCODE)\n",
    "table2.div(table2.sum(1).astype(float), axis=0).plot(kind='barh', stacked=True)\n",
    "plt.title('Involvement of pedestrian')\n",
    "plt.xlabel('Proportion')\n",
    "plt.ylabel('')\n",
    "plt.xticks(rotation=0)\n",
    "plt.legend(title='', loc='upper right')\n",
    "\n",
    "plt.show()"
   ]
  },
  {
   "cell_type": "code",
   "execution_count": 46,
   "metadata": {},
   "outputs": [
    {
     "data": {
      "image/png": "[encoded data removed]",
      "text/plain": [
       "<Figure size 432x288 with 1 Axes>"
      ]
     },
     "metadata": {
      "needs_background": "light"
     },
     "output_type": "display_data"
    }
   ],
   "source": [
    "table2=pd.crosstab(df_1.BYC,df_1.Y_SEVERITYCODE)\n",
    "table2.div(table2.sum(1).astype(float), axis=0).plot(kind='barh', stacked=True)\n",
    "plt.title('Involvement of bicycles')\n",
    "plt.xlabel('Proportion')\n",
    "plt.ylabel('')\n",
    "plt.xticks(rotation=0)\n",
    "plt.legend(title='', loc='upper right')\n",
    "\n",
    "plt.show()"
   ]
  },
  {
   "cell_type": "markdown",
   "metadata": {},
   "source": [
    "With these graphical illustration in mind, the clear impact of **involved pedestrians or bicycles** on the collision severity was outstanding. "
   ]
  },
  {
   "cell_type": "markdown",
   "metadata": {},
   "source": [
    "## Results"
   ]
  },
  {
   "cell_type": "markdown",
   "metadata": {},
   "source": [
    "To find attributes to predict traffic collision severity there are several approaches for modelling. As regression provides additional information on the impact of the respective factor, it was the method of choice to enable decision-makers not only to predict the severity but also to take decisions regarding most effective prevention measures. All of the chosen attributes showed a significant group difference regarding traffic collision severity. For further predicting the severity thus enabling stakeholders to categorize the collision and distribute resources, a regression model was built."
   ]
  },
  {
   "cell_type": "markdown",
   "metadata": {},
   "source": [
    "### Modeling"
   ]
  },
  {
   "cell_type": "markdown",
   "metadata": {},
   "source": [
    "When taking categorical variables as potential influencing factors for predicting these need to be turned into **indicator variables** ('dummys'). As a second step the **Sklearn algorithm** for logistic regression was used. Two different approaches were chosen, one to **balance the dataset (LR)**, the other without balancing (LR1). As a solver ‘sag’ was chosen to sufficiently address multiclass problems and the large dataset. The regularization strength was set to 0.01, and the dataset was split into training and testing by 0.2. "
   ]
  },
  {
   "cell_type": "code",
   "execution_count": 62,
   "metadata": {},
   "outputs": [],
   "source": [
    "from sklearn.model_selection import train_test_split\n",
    "from sklearn.linear_model import LogisticRegression\n",
    "from sklearn.metrics import confusion_matrix\n",
    "from sklearn.preprocessing import OneHotEncoder"
   ]
  },
  {
   "cell_type": "code",
   "execution_count": 47,
   "metadata": {},
   "outputs": [
    {
     "data": {
      "text/plain": [
       "PERSONCOUNT        int64\n",
       "VEHCOUNT           int64\n",
       "Y_SEVERITYCODE    object\n",
       "JUNCTION          object\n",
       "WEATHERCOND_1     object\n",
       "ROADCOND_1        object\n",
       "LIGHTCOND_1       object\n",
       "PED               object\n",
       "BYC               object\n",
       "dtype: object"
      ]
     },
     "execution_count": 47,
     "metadata": {},
     "output_type": "execute_result"
    }
   ],
   "source": [
    "df_1.dtypes"
   ]
  },
  {
   "cell_type": "code",
   "execution_count": 51,
   "metadata": {},
   "outputs": [
    {
     "data": {
      "text/plain": [
       "Index(['PERSONCOUNT', 'VEHCOUNT', 'Y_SEVERITYCODE', 'JUNCTION',\n",
       "       'WEATHERCOND_1', 'ROADCOND_1', 'LIGHTCOND_1', 'PED', 'BYC'],\n",
       "      dtype='object')"
      ]
     },
     "execution_count": 51,
     "metadata": {},
     "output_type": "execute_result"
    }
   ],
   "source": [
    "df_1.columns"
   ]
  },
  {
   "cell_type": "code",
   "execution_count": 71,
   "metadata": {},
   "outputs": [
    {
     "data": {
      "text/plain": [
       "Index(['PERSONCOUNT', 'VEHCOUNT', 'JUNCTION_N', 'JUNCTION_Y',\n",
       "       'WEATHERCOND_1_Clear', 'WEATHERCOND_1_Cloudy', 'WEATHERCOND_1_Other',\n",
       "       'WEATHERCOND_1_Precipitation', 'WEATHERCOND_1_Restricted visibility',\n",
       "       'ROADCOND_1_Dry', 'ROADCOND_1_Other', 'ROADCOND_1_Slippery',\n",
       "       'LIGHTCOND_1_Daylight', 'LIGHTCOND_1_Dusk/Dawn', 'LIGHTCOND_1_Night',\n",
       "       'LIGHTCOND_1_Other', 'PED_N', 'PED_Y', 'BYC_N', 'BYC_Y',\n",
       "       'Y_SEVERITYCODE_Injury', 'Y_SEVERITYCODE_Property damage only'],\n",
       "      dtype='object')"
      ]
     },
     "execution_count": 71,
     "metadata": {},
     "output_type": "execute_result"
    }
   ],
   "source": [
    "Col = ['JUNCTION', 'WEATHERCOND_1', 'ROADCOND_1' , 'LIGHTCOND_1', 'PED', 'BYC', 'Y_SEVERITYCODE']\n",
    "df_1_dummies = pd.get_dummies(data=df_1, columns=Col)\n",
    "df_1_dummies.columns"
   ]
  },
  {
   "cell_type": "code",
   "execution_count": 72,
   "metadata": {},
   "outputs": [
    {
     "data": {
      "text/plain": [
       "Index(['PERSONCOUNT', 'VEHCOUNT', 'JUNCTION_Y', 'WEATHERCOND_1_Cloudy',\n",
       "       'WEATHERCOND_1_Other', 'WEATHERCOND_1_Precipitation',\n",
       "       'WEATHERCOND_1_Restricted visibility', 'ROADCOND_1_Other',\n",
       "       'ROADCOND_1_Slippery', 'LIGHTCOND_1_Dusk/Dawn', 'LIGHTCOND_1_Night',\n",
       "       'LIGHTCOND_1_Other', 'PED_Y', 'BYC_Y', 'Y_SEVERITYCODE_Injury'],\n",
       "      dtype='object')"
      ]
     },
     "execution_count": 72,
     "metadata": {},
     "output_type": "execute_result"
    }
   ],
   "source": [
    "df_1_dummies=df_1_dummies.drop(['JUNCTION_N','WEATHERCOND_1_Clear','ROADCOND_1_Dry','LIGHTCOND_1_Daylight',\n",
    "                               'PED_N','BYC_N','Y_SEVERITYCODE_Property damage only'],  axis=1)\n",
    "df_1_dummies.columns"
   ]
  },
  {
   "cell_type": "markdown",
   "metadata": {},
   "source": [
    "#### Training"
   ]
  },
  {
   "cell_type": "code",
   "execution_count": 76,
   "metadata": {},
   "outputs": [
    {
     "data": {
      "text/plain": [
       "array([1, 0, 0, ..., 1, 1, 0], dtype=uint8)"
      ]
     },
     "execution_count": 76,
     "metadata": {},
     "output_type": "execute_result"
    }
   ],
   "source": [
    "X = np.asarray(df_1_dummies[['PERSONCOUNT', 'VEHCOUNT', 'JUNCTION_Y','WEATHERCOND_1_Cloudy', \n",
    "                             'WEATHERCOND_1_Other','WEATHERCOND_1_Precipitation', \n",
    "                             'WEATHERCOND_1_Restricted visibility','ROADCOND_1_Other', 'ROADCOND_1_Slippery', \n",
    "                             'LIGHTCOND_1_Dusk/Dawn','LIGHTCOND_1_Night', 'LIGHTCOND_1_Other', 'PED_Y', \n",
    "                             'BYC_Y']])\n",
    "y = np.asarray(df_1_dummies['Y_SEVERITYCODE_Injury'])"
   ]
  },
  {
   "cell_type": "code",
   "execution_count": 77,
   "metadata": {},
   "outputs": [
    {
     "name": "stdout",
     "output_type": "stream",
     "text": [
      "Train set: (155738, 14) (155738,)\n",
      "Test set: (38935, 14) (38935,)\n"
     ]
    }
   ],
   "source": [
    "X_train, X_test, y_train, y_test = train_test_split( X, y, test_size=0.2, random_state=4)\n",
    "print ('Train set:', X_train.shape,  y_train.shape)\n",
    "print ('Test set:', X_test.shape,  y_test.shape)"
   ]
  },
  {
   "cell_type": "code",
   "execution_count": 102,
   "metadata": {},
   "outputs": [
    {
     "data": {
      "text/plain": [
       "LogisticRegression(C=0.01, class_weight='balanced', dual=False,\n",
       "                   fit_intercept=True, intercept_scaling=1, l1_ratio=None,\n",
       "                   max_iter=100, multi_class='auto', n_jobs=None, penalty='l2',\n",
       "                   random_state=None, solver='sag', tol=0.0001, verbose=0,\n",
       "                   warm_start=False)"
      ]
     },
     "execution_count": 102,
     "metadata": {},
     "output_type": "execute_result"
    }
   ],
   "source": [
    "LR = LogisticRegression(C=0.01, solver='sag', class_weight='balanced').fit(X_train,y_train)\n",
    "LR"
   ]
  },
  {
   "cell_type": "code",
   "execution_count": 103,
   "metadata": {},
   "outputs": [
    {
     "data": {
      "text/plain": [
       "LogisticRegression(C=0.01, class_weight=None, dual=False, fit_intercept=True,\n",
       "                   intercept_scaling=1, l1_ratio=None, max_iter=100,\n",
       "                   multi_class='auto', n_jobs=None, penalty='l2',\n",
       "                   random_state=None, solver='sag', tol=0.0001, verbose=0,\n",
       "                   warm_start=False)"
      ]
     },
     "execution_count": 103,
     "metadata": {},
     "output_type": "execute_result"
    }
   ],
   "source": [
    "LR1 = LogisticRegression(C=0.01, solver='sag').fit(X_train,y_train)\n",
    "LR1"
   ]
  },
  {
   "cell_type": "markdown",
   "metadata": {},
   "source": [
    "#### Testing"
   ]
  },
  {
   "cell_type": "code",
   "execution_count": 104,
   "metadata": {},
   "outputs": [
    {
     "data": {
      "text/plain": [
       "array([0, 1, 0, ..., 1, 1, 0], dtype=uint8)"
      ]
     },
     "execution_count": 104,
     "metadata": {},
     "output_type": "execute_result"
    }
   ],
   "source": [
    "yhat = LR.predict(X_test)\n",
    "yhat"
   ]
  },
  {
   "cell_type": "code",
   "execution_count": 105,
   "metadata": {},
   "outputs": [
    {
     "data": {
      "text/plain": [
       "array([[0.53, 0.47],\n",
       "       [0.49, 0.51],\n",
       "       [0.66, 0.34],\n",
       "       ...,\n",
       "       [0.49, 0.51],\n",
       "       [0.49, 0.51],\n",
       "       [0.51, 0.49]])"
      ]
     },
     "execution_count": 105,
     "metadata": {},
     "output_type": "execute_result"
    }
   ],
   "source": [
    "yhat_prob = LR.predict_proba(X_test)\n",
    "yhat_prob"
   ]
  },
  {
   "cell_type": "code",
   "execution_count": 106,
   "metadata": {},
   "outputs": [
    {
     "data": {
      "text/plain": [
       "array([0, 0, 0, ..., 0, 0, 0], dtype=uint8)"
      ]
     },
     "execution_count": 106,
     "metadata": {},
     "output_type": "execute_result"
    }
   ],
   "source": [
    "yhat1 = LR1.predict(X_test)\n",
    "yhat1"
   ]
  },
  {
   "cell_type": "code",
   "execution_count": 107,
   "metadata": {},
   "outputs": [
    {
     "data": {
      "text/plain": [
       "array([[0.73, 0.27],\n",
       "       [0.69, 0.31],\n",
       "       [0.82, 0.18],\n",
       "       ...,\n",
       "       [0.69, 0.31],\n",
       "       [0.69, 0.31],\n",
       "       [0.7 , 0.3 ]])"
      ]
     },
     "execution_count": 107,
     "metadata": {},
     "output_type": "execute_result"
    }
   ],
   "source": [
    "yhat_prob1 = LR1.predict_proba(X_test)\n",
    "yhat_prob1"
   ]
  },
  {
   "cell_type": "markdown",
   "metadata": {},
   "source": [
    "#### Evaluation"
   ]
  },
  {
   "cell_type": "markdown",
   "metadata": {},
   "source": [
    "The following evaluation metrics were obtained for the respective model. As assumed the balanced dataset performed **better prediction of true positive (true injury) values** while losing precision. As it is crucial to correctly predict the collision with injury while it is acceptable to include a larger number of false positive injury-labelled collisions, the balanced model was chosen as the final model to predict traffic collision severity."
   ]
  },
  {
   "cell_type": "code",
   "execution_count": 108,
   "metadata": {},
   "outputs": [
    {
     "name": "stderr",
     "output_type": "stream",
     "text": [
      "C:\\Users\\User\\anaconda3\\lib\\site-packages\\sklearn\\metrics\\_classification.py:664: FutureWarning: jaccard_similarity_score has been deprecated and replaced with jaccard_score. It will be removed in version 0.23. This implementation has surprising behavior for binary and multiclass classification tasks.\n",
      "  FutureWarning)\n"
     ]
    },
    {
     "data": {
      "text/plain": [
       "0.6456144856812637"
      ]
     },
     "execution_count": 108,
     "metadata": {},
     "output_type": "execute_result"
    }
   ],
   "source": [
    "from sklearn.metrics import jaccard_similarity_score\n",
    "jaccard_similarity_score(y_test, yhat)"
   ]
  },
  {
   "cell_type": "code",
   "execution_count": 109,
   "metadata": {},
   "outputs": [
    {
     "data": {
      "text/plain": [
       "0.7535893155258765"
      ]
     },
     "execution_count": 109,
     "metadata": {},
     "output_type": "execute_result"
    }
   ],
   "source": [
    "jaccard_similarity_score(y_test, yhat1)"
   ]
  },
  {
   "cell_type": "code",
   "execution_count": 110,
   "metadata": {},
   "outputs": [
    {
     "name": "stdout",
     "output_type": "stream",
     "text": [
      "[[ 7461  4049]\n",
      " [ 9749 17676]]\n"
     ]
    }
   ],
   "source": [
    "from sklearn.metrics import classification_report, confusion_matrix\n",
    "import itertools\n",
    "def plot_confusion_matrix(cm, classes,\n",
    "                          normalize=False,\n",
    "                          title='Confusion matrix',\n",
    "                          cmap=plt.cm.Blues):\n",
    "    if normalize:\n",
    "        cm = cm.astype('float') / cm.sum(axis=1)[:, np.newaxis]\n",
    "        print(\"Normalized confusion matrix\")\n",
    "    else:\n",
    "        print('Confusion matrix, without normalization')\n",
    "\n",
    "    print(cm)\n",
    "\n",
    "    plt.imshow(cm, interpolation='nearest', cmap=cmap)\n",
    "    plt.title(title)\n",
    "    plt.colorbar()\n",
    "    tick_marks = np.arange(len(classes))\n",
    "    plt.xticks(tick_marks, classes, rotation=45)\n",
    "    plt.yticks(tick_marks, classes)\n",
    "\n",
    "    fmt = '.2f' if normalize else 'd'\n",
    "    thresh = cm.max() / 2.\n",
    "    for i, j in itertools.product(range(cm.shape[0]), range(cm.shape[1])):\n",
    "        plt.text(j, i, format(cm[i, j], fmt),\n",
    "                 horizontalalignment=\"center\",\n",
    "                 color=\"white\" if cm[i, j] > thresh else \"black\")\n",
    "\n",
    "    plt.tight_layout()\n",
    "    plt.ylabel('True label')\n",
    "    plt.xlabel('Predicted label')\n",
    "print(confusion_matrix(y_test, yhat, labels=[1,0]))"
   ]
  },
  {
   "cell_type": "code",
   "execution_count": 133,
   "metadata": {},
   "outputs": [
    {
     "name": "stdout",
     "output_type": "stream",
     "text": [
      "Confusion matrix, without normalization\n",
      "[[ 7461  4049]\n",
      " [ 9749 17676]]\n"
     ]
    },
    {
     "data": {
      "image/png": "[encoded data removed]",
      "text/plain": [
       "<Figure size 432x288 with 2 Axes>"
      ]
     },
     "metadata": {
      "needs_background": "light"
     },
     "output_type": "display_data"
    }
   ],
   "source": [
    "cnf_matrix = confusion_matrix(y_test, yhat, labels=[1,0])\n",
    "np.set_printoptions(precision=2)\n",
    "plt.figure()\n",
    "plot_confusion_matrix(cnf_matrix, classes=['Injury=1','Injury=0'],normalize= False,  title='Confusion matrix balanced model')"
   ]
  },
  {
   "cell_type": "code",
   "execution_count": 134,
   "metadata": {},
   "outputs": [
    {
     "name": "stdout",
     "output_type": "stream",
     "text": [
      "Confusion matrix, without normalization\n",
      "[[ 2502  9008]\n",
      " [  586 26839]]\n"
     ]
    },
    {
     "data": {
      "image/png": "[encoded data removed]",
      "text/plain": [
       "<Figure size 432x288 with 2 Axes>"
      ]
     },
     "metadata": {
      "needs_background": "light"
     },
     "output_type": "display_data"
    }
   ],
   "source": [
    "cnf_matrix = confusion_matrix(y_test, yhat1, labels=[1,0])\n",
    "np.set_printoptions(precision=2)\n",
    "plt.figure()\n",
    "plot_confusion_matrix(cnf_matrix, classes=['Injury=1','Injury=0'],normalize= False,  title='Confusion matrix imbalanced model')"
   ]
  },
  {
   "cell_type": "code",
   "execution_count": 113,
   "metadata": {},
   "outputs": [
    {
     "data": {
      "text/plain": [
       "0.5976812741869132"
      ]
     },
     "execution_count": 113,
     "metadata": {},
     "output_type": "execute_result"
    }
   ],
   "source": [
    "from sklearn.metrics import log_loss\n",
    "log_loss(y_test, yhat_prob)"
   ]
  },
  {
   "cell_type": "code",
   "execution_count": 114,
   "metadata": {},
   "outputs": [
    {
     "data": {
      "text/plain": [
       "0.5258418312776298"
      ]
     },
     "execution_count": 114,
     "metadata": {},
     "output_type": "execute_result"
    }
   ],
   "source": [
    "from sklearn.metrics import log_loss\n",
    "log_loss(y_test, yhat_prob1)"
   ]
  },
  {
   "cell_type": "code",
   "execution_count": 115,
   "metadata": {},
   "outputs": [
    {
     "name": "stdout",
     "output_type": "stream",
     "text": [
      "              precision    recall  f1-score   support\n",
      "\n",
      "           0       0.81      0.64      0.72     27425\n",
      "           1       0.43      0.65      0.52     11510\n",
      "\n",
      "    accuracy                           0.65     38935\n",
      "   macro avg       0.62      0.65      0.62     38935\n",
      "weighted avg       0.70      0.65      0.66     38935\n",
      "\n"
     ]
    }
   ],
   "source": [
    "print (classification_report(y_test, yhat))"
   ]
  },
  {
   "cell_type": "code",
   "execution_count": 116,
   "metadata": {},
   "outputs": [
    {
     "name": "stdout",
     "output_type": "stream",
     "text": [
      "              precision    recall  f1-score   support\n",
      "\n",
      "           0       0.75      0.98      0.85     27425\n",
      "           1       0.81      0.22      0.34     11510\n",
      "\n",
      "    accuracy                           0.75     38935\n",
      "   macro avg       0.78      0.60      0.60     38935\n",
      "weighted avg       0.77      0.75      0.70     38935\n",
      "\n"
     ]
    }
   ],
   "source": [
    "print (classification_report(y_test, yhat1))"
   ]
  },
  {
   "cell_type": "code",
   "execution_count": 125,
   "metadata": {},
   "outputs": [
    {
     "data": {
      "text/html": [
       "<div>\n",
       "<style scoped>\n",
       "    .dataframe tbody tr th:only-of-type {\n",
       "        vertical-align: middle;\n",
       "    }\n",
       "\n",
       "    .dataframe tbody tr th {\n",
       "        vertical-align: top;\n",
       "    }\n",
       "\n",
       "    .dataframe thead th {\n",
       "        text-align: right;\n",
       "    }\n",
       "</style>\n",
       "<table border=\"1\" class=\"dataframe\">\n",
       "  <thead>\n",
       "    <tr style=\"text-align: right;\">\n",
       "      <th></th>\n",
       "      <th>Log loss</th>\n",
       "      <th>Jaccard similarity score</th>\n",
       "      <th>Precision for minority category</th>\n",
       "      <th>Recall for minority category</th>\n",
       "      <th>F1-Score for minority category</th>\n",
       "    </tr>\n",
       "    <tr>\n",
       "      <th>Model</th>\n",
       "      <th></th>\n",
       "      <th></th>\n",
       "      <th></th>\n",
       "      <th></th>\n",
       "      <th></th>\n",
       "    </tr>\n",
       "  </thead>\n",
       "  <tbody>\n",
       "    <tr>\n",
       "      <th>Balanced</th>\n",
       "      <td>0.60</td>\n",
       "      <td>0.65</td>\n",
       "      <td>0.43</td>\n",
       "      <td>0.65</td>\n",
       "      <td>0.52</td>\n",
       "    </tr>\n",
       "    <tr>\n",
       "      <th>Unbalanced</th>\n",
       "      <td>0.53</td>\n",
       "      <td>0.75</td>\n",
       "      <td>0.81</td>\n",
       "      <td>0.22</td>\n",
       "      <td>0.34</td>\n",
       "    </tr>\n",
       "  </tbody>\n",
       "</table>\n",
       "</div>"
      ],
      "text/plain": [
       "            Log loss  Jaccard similarity score  \\\n",
       "Model                                            \n",
       "Balanced        0.60                      0.65   \n",
       "Unbalanced      0.53                      0.75   \n",
       "\n",
       "            Precision for minority category  Recall for minority category  \\\n",
       "Model                                                                       \n",
       "Balanced                               0.43                          0.65   \n",
       "Unbalanced                             0.81                          0.22   \n",
       "\n",
       "            F1-Score for minority category  \n",
       "Model                                       \n",
       "Balanced                              0.52  \n",
       "Unbalanced                            0.34  "
      ]
     },
     "execution_count": 125,
     "metadata": {},
     "output_type": "execute_result"
    }
   ],
   "source": [
    "d = {'Model': ['Balanced', 'Unbalanced'], 'Log loss': [0.60, 0.53], 'Jaccard similarity score':[0.65, 0.75],\n",
    "     'Precision for minority category': [0.43, 0.81],\n",
    "     'Recall for minority category': [0.65, 0.22], 'F1-Score for minority category': [0.52, 0.34]}\n",
    "\n",
    "Summary = pd.DataFrame(data=d)\n",
    "Summary = Summary.set_index('Model')\n",
    "Summary"
   ]
  },
  {
   "cell_type": "markdown",
   "metadata": {},
   "source": [
    "## Conclusion"
   ]
  },
  {
   "cell_type": "markdown",
   "metadata": {},
   "source": [
    "As outlined in the introduction, the prediction of traffic collision severity is crucial to **successfully distribute limited health care resources**. The developed model focuses on predicting the severity (Property damage only versus injury) using attributes which can be obtained through first information. Via a logistic regression algorithm, the severity can be predicted and the final model ensures that **the number of incorrectly labelled collisions as 'property damage only' are minimized while it accepts a higher number of incorrectly more severe labelled collisions**.   \n",
    "Furthermore, the attributes chosen are all relevant factors of traffic collision severity, thus being targets of further prevention strategies.\n",
    "Such a model needs to be revised thoroughly as it may lead to important decisions taken by health care managers. The presented model is a draft which definitely should not be used for far-reaching decisions which affect the health provision in emergency settings. It needs to be finalized and iteratively evaluated.\n"
   ]
  }
 ],
 "metadata": {
  "kernelspec": {
   "display_name": "Python 3",
   "language": "python",
   "name": "python3"
  },
  "language_info": {
   "codemirror_mode": {
    "name": "ipython",
    "version": 3
   },
   "file_extension": ".py",
   "mimetype": "text/x-python",
   "name": "python",
   "nbconvert_exporter": "python",
   "pygments_lexer": "ipython3",
   "version": "3.7.6"
  }
 },
 "nbformat": 4,
 "nbformat_minor": 4
}
